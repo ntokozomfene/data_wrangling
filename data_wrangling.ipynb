{
 "cells": [
  {
   "cell_type": "markdown",
   "metadata": {},
   "source": [
    "# DATA WRANGLING"
   ]
  },
  {
   "cell_type": "markdown",
   "metadata": {},
   "source": [
    "### 1. Import the dataset personality_scores.csv. Examine the data frame for duplicates (based on ID), and drop any duplicates that exist. Use an assert statement to check that the new data frame is the length of the unique entries of the original data frame."
   ]
  },
  {
   "cell_type": "markdown",
   "metadata": {},
   "source": [
    "Import the dataset personality_scores.csv."
   ]
  },
  {
   "cell_type": "code",
   "execution_count": 4,
   "metadata": {
    "scrolled": true
   },
   "outputs": [],
   "source": [
    "import pandas as pd\n",
    "\n",
    "import warnings\n",
    "warnings.simplefilter(action='ignore', category=FutureWarning)\n",
    "\n",
    "scores = pd.read_csv('personality_scores.csv', sep=';', encoding='utf-8')"
   ]
  },
  {
   "cell_type": "markdown",
   "metadata": {},
   "source": [
    "### Examine the data frame for duplicates (based on ID), and drop any duplicates that exist."
   ]
  },
  {
   "cell_type": "code",
   "execution_count": 5,
   "metadata": {},
   "outputs": [],
   "source": [
    "# droping dulpicates based on ID\n",
    "scores1 = scores.drop_duplicates('ID')"
   ]
  },
  {
   "cell_type": "code",
   "execution_count": 6,
   "metadata": {},
   "outputs": [],
   "source": [
    "# droping all the duplicates that exist\n",
    "scores1 = scores1.drop_duplicates()"
   ]
  },
  {
   "cell_type": "code",
   "execution_count": 11,
   "metadata": {},
   "outputs": [],
   "source": [
    "# droping unnamed columns\n",
    "scores2 = scores1.drop(['Unnamed: 51','Unnamed: 52', 'Unnamed: 53', 'Unnamed: 54', 'Unnamed: 55', 'Unnamed: 56', 'Unnamed: 57', 'Unnamed: 58', 'Unnamed: 59', 'Unnamed: 60',\"Unnamed: 61\",\"Unnamed: 62\",\"Unnamed: 63\",\"Unnamed: 64\",\"Unnamed: 65\",\"Unnamed: 66\",\"Unnamed: 67\",\"Unnamed: 68\", \"IPIP_HIGH_RISK\", \"ID\"], axis=1)"
   ]
  },
  {
   "cell_type": "markdown",
   "metadata": {},
   "source": [
    "### Use an assert statement to check that the new data frame is the length of the unique entries of the original data frame."
   ]
  },
  {
   "cell_type": "code",
   "execution_count": 12,
   "metadata": {},
   "outputs": [],
   "source": [
    "x = len(scores['ID'])\n",
    "assert x == len(scores1['ID'])"
   ]
  },
  {
   "cell_type": "markdown",
   "metadata": {},
   "source": [
    "the assert does not return anything therefore it has the same amount."
   ]
  },
  {
   "cell_type": "markdown",
   "metadata": {},
   "source": [
    "### 2. Create new columns containing the total score of each of the personality test subscales. To do this, write a function (or functions) that will calculate the total score for each of the subscales (conscientiousness, emotional stability, openness to new experience, agreeableness, extraversion), as set out in scoring. In other words, for the conscientiousness total score, all items marked as belonging to ‘conscientiousness’ should be summed."
   ]
  },
  {
   "cell_type": "code",
   "execution_count": 15,
   "metadata": {},
   "outputs": [],
   "source": [
    "import numpy as np\n",
    "# creating a new DataFrame\n",
    "new_df = scores2.copy()\n",
    "# Creating new columns with zero values\n",
    "new_df['Extraversion'] = np.zeros(len(scores2['Section 5 of 6 [I am always prepared.]']))\n",
    "new_df['Agreeableness'] = np.zeros(len(scores2['Section 5 of 6 [I am always prepared.]']))\n",
    "new_df['Conscientiousness'] = np.zeros(len(scores2['Section 5 of 6 [I am always prepared.]']))\n",
    "new_df['Emotional Stability/Neuroticism'] = np.zeros(len(scores2['Section 5 of 6 [I am always prepared.]']))\n",
    "new_df['Intellect/Imagination'] = np.zeros(len(scores2['Section 5 of 6 [I am always prepared.]']))\n",
    "\n",
    "# Defining a fuction 'Total scores'\n",
    "def total_score(scores1):\n",
    "    for key, value in scores1.iterrows():\n",
    "        for i in value.get_values():\n",
    "            if int(i[1]) == 1:\n",
    "                new_df.at[key, \"Extraversion\"] = new_df.at[key, \"Extraversion\"]+int(i[4])\n",
    "            if int(i[1]) == 2:\n",
    "                new_df.at[key, \"Agreeableness\"] = new_df.at[key, \"Agreeableness\"]+int(i[4])\n",
    "            if int(i[1]) == 3:\n",
    "                new_df.at[key, \"Conscientiousness\"] = new_df.at[key, \"Conscientiousness\"]+int(i[4])\n",
    "            if int(i[1]) == 4:\n",
    "                new_df.at[key, \"Emotional Stability/Neuroticism\"] = new_df.at[key, \"Emotional Stability/Neuroticism\"]+int(i[4])\n",
    "            if int(i[1]) == 5:\n",
    "                new_df.at[key, \"Intellect/Imagination\"] = new_df.at[key, \"Intellect/Imagination\"]+int(i[4])    \n",
    "total_score(scores2)"
   ]
  },
  {
   "cell_type": "code",
   "execution_count": 16,
   "metadata": {},
   "outputs": [
    {
     "data": {
      "text/html": [
       "<div>\n",
       "<style scoped>\n",
       "    .dataframe tbody tr th:only-of-type {\n",
       "        vertical-align: middle;\n",
       "    }\n",
       "\n",
       "    .dataframe tbody tr th {\n",
       "        vertical-align: top;\n",
       "    }\n",
       "\n",
       "    .dataframe thead th {\n",
       "        text-align: right;\n",
       "    }\n",
       "</style>\n",
       "<table border=\"1\" class=\"dataframe\">\n",
       "  <thead>\n",
       "    <tr style=\"text-align: right;\">\n",
       "      <th></th>\n",
       "      <th>Section 5 of 6 [I am always prepared.]</th>\n",
       "      <th>Section 5 of 6 [I am easily disturbed.]</th>\n",
       "      <th>Section 5 of 6 [I am exacting (demanding) in my work.]</th>\n",
       "      <th>Section 5 of 6 [I am full of ideas.]</th>\n",
       "      <th>Section 5 of 6 [I am interested in people.]</th>\n",
       "      <th>Section 5 of 6 [I am not interested in abstract ideas.]</th>\n",
       "      <th>Section 5 of 6 [I am not interested in other people's problems.]</th>\n",
       "      <th>Section 5 of 6 [I am not really interested in others.]</th>\n",
       "      <th>Section 5 of 6 [I am quick to understand things.]</th>\n",
       "      <th>Section 5 of 6 [I am quiet around strangers.]</th>\n",
       "      <th>...</th>\n",
       "      <th>Section 5 of 6 [I sympathize with others' feelings.]</th>\n",
       "      <th>Section 5 of 6 [I take time out for others.]</th>\n",
       "      <th>Section 5 of 6 [I talk to a lot of different people at parties.]</th>\n",
       "      <th>Section 5 of 6 [I use difficult words.]</th>\n",
       "      <th>Section 5 of 6 [I worry about things.]</th>\n",
       "      <th>Extraversion</th>\n",
       "      <th>Agreeableness</th>\n",
       "      <th>Conscientiousness</th>\n",
       "      <th>Emotional Stability/Neuroticism</th>\n",
       "      <th>Intellect/Imagination</th>\n",
       "    </tr>\n",
       "  </thead>\n",
       "  <tbody>\n",
       "    <tr>\n",
       "      <td>0</td>\n",
       "      <td>(3, 5)</td>\n",
       "      <td>(4, 5)</td>\n",
       "      <td>(3, 5)</td>\n",
       "      <td>(5, 5)</td>\n",
       "      <td>(2, 3)</td>\n",
       "      <td>(5, 3)</td>\n",
       "      <td>(2, 3)</td>\n",
       "      <td>(2, 5)</td>\n",
       "      <td>(5, 5)</td>\n",
       "      <td>(1, 3)</td>\n",
       "      <td>...</td>\n",
       "      <td>(2, 5)</td>\n",
       "      <td>(2, 5)</td>\n",
       "      <td>(1, 3)</td>\n",
       "      <td>(5, 1)</td>\n",
       "      <td>(4, 3)</td>\n",
       "      <td>30.0</td>\n",
       "      <td>40.0</td>\n",
       "      <td>48.0</td>\n",
       "      <td>36.0</td>\n",
       "      <td>42.0</td>\n",
       "    </tr>\n",
       "    <tr>\n",
       "      <td>1</td>\n",
       "      <td>(3, 5)</td>\n",
       "      <td>(4, 5)</td>\n",
       "      <td>(3, 5)</td>\n",
       "      <td>(5, 5)</td>\n",
       "      <td>(2, 5)</td>\n",
       "      <td>(5, 3)</td>\n",
       "      <td>(2, 5)</td>\n",
       "      <td>(2, 5)</td>\n",
       "      <td>(5, 5)</td>\n",
       "      <td>(1, 3)</td>\n",
       "      <td>...</td>\n",
       "      <td>(2, 5)</td>\n",
       "      <td>(2, 5)</td>\n",
       "      <td>(1, 5)</td>\n",
       "      <td>(5, 3)</td>\n",
       "      <td>(4, 3)</td>\n",
       "      <td>42.0</td>\n",
       "      <td>46.0</td>\n",
       "      <td>46.0</td>\n",
       "      <td>40.0</td>\n",
       "      <td>42.0</td>\n",
       "    </tr>\n",
       "    <tr>\n",
       "      <td>2</td>\n",
       "      <td>(3, 5)</td>\n",
       "      <td>(4, 3)</td>\n",
       "      <td>(3, 3)</td>\n",
       "      <td>(5, 5)</td>\n",
       "      <td>(2, 5)</td>\n",
       "      <td>(5, 5)</td>\n",
       "      <td>(2, 5)</td>\n",
       "      <td>(2, 5)</td>\n",
       "      <td>(5, 5)</td>\n",
       "      <td>(1, 1)</td>\n",
       "      <td>...</td>\n",
       "      <td>(2, 5)</td>\n",
       "      <td>(2, 5)</td>\n",
       "      <td>(1, 3)</td>\n",
       "      <td>(5, 1)</td>\n",
       "      <td>(4, 3)</td>\n",
       "      <td>28.0</td>\n",
       "      <td>40.0</td>\n",
       "      <td>40.0</td>\n",
       "      <td>38.0</td>\n",
       "      <td>42.0</td>\n",
       "    </tr>\n",
       "    <tr>\n",
       "      <td>3</td>\n",
       "      <td>(3, 5)</td>\n",
       "      <td>(4, 5)</td>\n",
       "      <td>(3, 3)</td>\n",
       "      <td>(5, 5)</td>\n",
       "      <td>(2, 5)</td>\n",
       "      <td>(5, 3)</td>\n",
       "      <td>(2, 3)</td>\n",
       "      <td>(2, 3)</td>\n",
       "      <td>(5, 3)</td>\n",
       "      <td>(1, 3)</td>\n",
       "      <td>...</td>\n",
       "      <td>(2, 5)</td>\n",
       "      <td>(2, 5)</td>\n",
       "      <td>(1, 5)</td>\n",
       "      <td>(5, 1)</td>\n",
       "      <td>(4, 1)</td>\n",
       "      <td>30.0</td>\n",
       "      <td>38.0</td>\n",
       "      <td>38.0</td>\n",
       "      <td>40.0</td>\n",
       "      <td>38.0</td>\n",
       "    </tr>\n",
       "    <tr>\n",
       "      <td>4</td>\n",
       "      <td>(3, 3)</td>\n",
       "      <td>(4, 5)</td>\n",
       "      <td>(3, 3)</td>\n",
       "      <td>(5, 3)</td>\n",
       "      <td>(2, 3)</td>\n",
       "      <td>(5, 3)</td>\n",
       "      <td>(2, 3)</td>\n",
       "      <td>(2, 3)</td>\n",
       "      <td>(5, 5)</td>\n",
       "      <td>(1, 1)</td>\n",
       "      <td>...</td>\n",
       "      <td>(2, 3)</td>\n",
       "      <td>(2, 5)</td>\n",
       "      <td>(1, 3)</td>\n",
       "      <td>(5, 1)</td>\n",
       "      <td>(4, 3)</td>\n",
       "      <td>28.0</td>\n",
       "      <td>34.0</td>\n",
       "      <td>46.0</td>\n",
       "      <td>38.0</td>\n",
       "      <td>36.0</td>\n",
       "    </tr>\n",
       "  </tbody>\n",
       "</table>\n",
       "<p>5 rows × 55 columns</p>\n",
       "</div>"
      ],
      "text/plain": [
       "  Section 5 of 6 [I am always prepared.]  \\\n",
       "0                                 (3, 5)   \n",
       "1                                 (3, 5)   \n",
       "2                                 (3, 5)   \n",
       "3                                 (3, 5)   \n",
       "4                                 (3, 3)   \n",
       "\n",
       "  Section 5 of 6 [I am easily disturbed.]  \\\n",
       "0                                  (4, 5)   \n",
       "1                                  (4, 5)   \n",
       "2                                  (4, 3)   \n",
       "3                                  (4, 5)   \n",
       "4                                  (4, 5)   \n",
       "\n",
       "  Section 5 of 6 [I am exacting (demanding) in my work.]  \\\n",
       "0                                             (3, 5)       \n",
       "1                                             (3, 5)       \n",
       "2                                             (3, 3)       \n",
       "3                                             (3, 3)       \n",
       "4                                             (3, 3)       \n",
       "\n",
       "  Section 5 of 6 [I am full of ideas.]  \\\n",
       "0                               (5, 5)   \n",
       "1                               (5, 5)   \n",
       "2                               (5, 5)   \n",
       "3                               (5, 5)   \n",
       "4                               (5, 3)   \n",
       "\n",
       "  Section 5 of 6 [I am interested in people.]  \\\n",
       "0                                      (2, 3)   \n",
       "1                                      (2, 5)   \n",
       "2                                      (2, 5)   \n",
       "3                                      (2, 5)   \n",
       "4                                      (2, 3)   \n",
       "\n",
       "  Section 5 of 6 [I am not interested in abstract ideas.]  \\\n",
       "0                                             (5, 3)        \n",
       "1                                             (5, 3)        \n",
       "2                                             (5, 5)        \n",
       "3                                             (5, 3)        \n",
       "4                                             (5, 3)        \n",
       "\n",
       "  Section 5 of 6 [I am not interested in other people's problems.]  \\\n",
       "0                                             (2, 3)                 \n",
       "1                                             (2, 5)                 \n",
       "2                                             (2, 5)                 \n",
       "3                                             (2, 3)                 \n",
       "4                                             (2, 3)                 \n",
       "\n",
       "  Section 5 of 6 [I am not really interested in others.]  \\\n",
       "0                                             (2, 5)       \n",
       "1                                             (2, 5)       \n",
       "2                                             (2, 5)       \n",
       "3                                             (2, 3)       \n",
       "4                                             (2, 3)       \n",
       "\n",
       "  Section 5 of 6 [I am quick to understand things.]  \\\n",
       "0                                            (5, 5)   \n",
       "1                                            (5, 5)   \n",
       "2                                            (5, 5)   \n",
       "3                                            (5, 3)   \n",
       "4                                            (5, 5)   \n",
       "\n",
       "  Section 5 of 6 [I am quiet around strangers.]  ...  \\\n",
       "0                                        (1, 3)  ...   \n",
       "1                                        (1, 3)  ...   \n",
       "2                                        (1, 1)  ...   \n",
       "3                                        (1, 3)  ...   \n",
       "4                                        (1, 1)  ...   \n",
       "\n",
       "  Section 5 of 6 [I sympathize with others' feelings.]  \\\n",
       "0                                             (2, 5)     \n",
       "1                                             (2, 5)     \n",
       "2                                             (2, 5)     \n",
       "3                                             (2, 5)     \n",
       "4                                             (2, 3)     \n",
       "\n",
       "  Section 5 of 6 [I take time out for others.]  \\\n",
       "0                                       (2, 5)   \n",
       "1                                       (2, 5)   \n",
       "2                                       (2, 5)   \n",
       "3                                       (2, 5)   \n",
       "4                                       (2, 5)   \n",
       "\n",
       "  Section 5 of 6 [I talk to a lot of different people at parties.]  \\\n",
       "0                                             (1, 3)                 \n",
       "1                                             (1, 5)                 \n",
       "2                                             (1, 3)                 \n",
       "3                                             (1, 5)                 \n",
       "4                                             (1, 3)                 \n",
       "\n",
       "  Section 5 of 6 [I use difficult words.]  \\\n",
       "0                                  (5, 1)   \n",
       "1                                  (5, 3)   \n",
       "2                                  (5, 1)   \n",
       "3                                  (5, 1)   \n",
       "4                                  (5, 1)   \n",
       "\n",
       "  Section 5 of 6 [I worry about things.] Extraversion Agreeableness  \\\n",
       "0                                 (4, 3)         30.0          40.0   \n",
       "1                                 (4, 3)         42.0          46.0   \n",
       "2                                 (4, 3)         28.0          40.0   \n",
       "3                                 (4, 1)         30.0          38.0   \n",
       "4                                 (4, 3)         28.0          34.0   \n",
       "\n",
       "  Conscientiousness Emotional Stability/Neuroticism Intellect/Imagination  \n",
       "0              48.0                            36.0                  42.0  \n",
       "1              46.0                            40.0                  42.0  \n",
       "2              40.0                            38.0                  42.0  \n",
       "3              38.0                            40.0                  38.0  \n",
       "4              46.0                            38.0                  36.0  \n",
       "\n",
       "[5 rows x 55 columns]"
      ]
     },
     "execution_count": 16,
     "metadata": {},
     "output_type": "execute_result"
    }
   ],
   "source": [
    "new_df.head()"
   ]
  },
  {
   "cell_type": "markdown",
   "metadata": {},
   "source": [
    "### 3.Import the data in departments.csv. Merge this data frame with the personality score data frame, keeping all applicants within the department data frame. Use an assert statement to check that the newly created merged data frame has the same amount of rows as the department data frame, and the expected number of columns."
   ]
  },
  {
   "cell_type": "markdown",
   "metadata": {},
   "source": [
    "* importing departments DataFrame\n",
    "* merging new_df with departments and asigning it to new_dataFrame"
   ]
  },
  {
   "cell_type": "code",
   "execution_count": 23,
   "metadata": {},
   "outputs": [],
   "source": [
    "departments_df = pd.read_csv('departments.csv', sep=';', encoding='utf-8')\n",
    "new_dataframe = pd.concat([new_df, departments_df], axis=1).reindex(scores1.index)"
   ]
  },
  {
   "cell_type": "markdown",
   "metadata": {},
   "source": [
    "### Use an assert statement to check that the newly created merged data frame has the same amount of rows as the department data frame, and the expected number of columns."
   ]
  },
  {
   "cell_type": "code",
   "execution_count": 26,
   "metadata": {},
   "outputs": [],
   "source": [
    "a = len(new_dataframe['Section 5 of 6 [I am always prepared.]'])\n",
    "assert a == len(departments_df['ID'])"
   ]
  },
  {
   "cell_type": "markdown",
   "metadata": {},
   "source": [
    "the assert does not return anything therefore it has the same amount."
   ]
  },
  {
   "cell_type": "markdown",
   "metadata": {},
   "source": [
    "### 4.Filter the merged data frame so that you get only the applicants who scored less than 30 on emotional stability, conscientiousness AND agreeableness. Print the ID numbers and departments of these applicants to the screen, and also assign these applicants the tag “high_risk” in a new column. All other applicants get the tag “low_risk”"
   ]
  },
  {
   "cell_type": "code",
   "execution_count": 27,
   "metadata": {},
   "outputs": [
    {
     "name": "stdout",
     "output_type": "stream",
     "text": [
      "        ID   Department\n",
      "881    881         Data\n",
      "1197  1197  Copywriting\n"
     ]
    }
   ],
   "source": [
    "# filtering dataframe \n",
    "filter_df = new_dataframe[(new_dataframe['Emotional Stability/Neuroticism'] < 30) & (new_dataframe['Agreeableness'] < 30) & (new_dataframe['Conscientiousness'] < 30)]\n",
    "filter_dff = new_dataframe[(new_dataframe['Emotional Stability/Neuroticism'] > 30) & (new_dataframe['Agreeableness'] > 30) & (new_dataframe['Conscientiousness'] > 30)]\n",
    "\n",
    "# printing id and departments of applicants to screen\n",
    "print(filter_df.iloc[:, -2:])"
   ]
  },
  {
   "cell_type": "code",
   "execution_count": 28,
   "metadata": {},
   "outputs": [
    {
     "data": {
      "text/html": [
       "<div>\n",
       "<style scoped>\n",
       "    .dataframe tbody tr th:only-of-type {\n",
       "        vertical-align: middle;\n",
       "    }\n",
       "\n",
       "    .dataframe tbody tr th {\n",
       "        vertical-align: top;\n",
       "    }\n",
       "\n",
       "    .dataframe thead th {\n",
       "        text-align: right;\n",
       "    }\n",
       "</style>\n",
       "<table border=\"1\" class=\"dataframe\">\n",
       "  <thead>\n",
       "    <tr style=\"text-align: right;\">\n",
       "      <th></th>\n",
       "      <th>Agreeableness</th>\n",
       "      <th>Conscientiousness</th>\n",
       "      <th>Emotional Stability/Neuroticism</th>\n",
       "      <th>Intellect/Imagination</th>\n",
       "      <th>ID</th>\n",
       "      <th>Department</th>\n",
       "      <th>tags</th>\n",
       "    </tr>\n",
       "  </thead>\n",
       "  <tbody>\n",
       "    <tr>\n",
       "      <td>881</td>\n",
       "      <td>28.0</td>\n",
       "      <td>26.0</td>\n",
       "      <td>28.0</td>\n",
       "      <td>36.0</td>\n",
       "      <td>881</td>\n",
       "      <td>Data</td>\n",
       "      <td>high_risk</td>\n",
       "    </tr>\n",
       "    <tr>\n",
       "      <td>1197</td>\n",
       "      <td>22.0</td>\n",
       "      <td>26.0</td>\n",
       "      <td>26.0</td>\n",
       "      <td>28.0</td>\n",
       "      <td>1197</td>\n",
       "      <td>Copywriting</td>\n",
       "      <td>high_risk</td>\n",
       "    </tr>\n",
       "    <tr>\n",
       "      <td>0</td>\n",
       "      <td>40.0</td>\n",
       "      <td>48.0</td>\n",
       "      <td>36.0</td>\n",
       "      <td>42.0</td>\n",
       "      <td>0</td>\n",
       "      <td>Data</td>\n",
       "      <td>low_risk</td>\n",
       "    </tr>\n",
       "    <tr>\n",
       "      <td>1</td>\n",
       "      <td>46.0</td>\n",
       "      <td>46.0</td>\n",
       "      <td>40.0</td>\n",
       "      <td>42.0</td>\n",
       "      <td>1</td>\n",
       "      <td>Data</td>\n",
       "      <td>low_risk</td>\n",
       "    </tr>\n",
       "    <tr>\n",
       "      <td>2</td>\n",
       "      <td>40.0</td>\n",
       "      <td>40.0</td>\n",
       "      <td>38.0</td>\n",
       "      <td>42.0</td>\n",
       "      <td>2</td>\n",
       "      <td>Data</td>\n",
       "      <td>low_risk</td>\n",
       "    </tr>\n",
       "  </tbody>\n",
       "</table>\n",
       "</div>"
      ],
      "text/plain": [
       "      Agreeableness  Conscientiousness  Emotional Stability/Neuroticism  \\\n",
       "881            28.0               26.0                             28.0   \n",
       "1197           22.0               26.0                             26.0   \n",
       "0              40.0               48.0                             36.0   \n",
       "1              46.0               46.0                             40.0   \n",
       "2              40.0               40.0                             38.0   \n",
       "\n",
       "      Intellect/Imagination    ID   Department       tags  \n",
       "881                    36.0   881         Data  high_risk  \n",
       "1197                   28.0  1197  Copywriting  high_risk  \n",
       "0                      42.0     0         Data   low_risk  \n",
       "1                      42.0     1         Data   low_risk  \n",
       "2                      42.0     2         Data   low_risk  "
      ]
     },
     "execution_count": 28,
     "metadata": {},
     "output_type": "execute_result"
    }
   ],
   "source": [
    "high = filter_df.iloc[:,-6:]\n",
    "low = filter_dff.iloc[:,-6:]\n",
    "high['tags'] = 'high_risk'\n",
    "low['tags'] = 'low_risk'\n",
    "filter_tags = pd.concat([high, low])\n",
    "filter_tags.head()"
   ]
  },
  {
   "cell_type": "markdown",
   "metadata": {},
   "source": [
    "### 5.Create a new data frame with a count of the number of low and high risk applicants within each department. Let each department be a separate column."
   ]
  },
  {
   "cell_type": "code",
   "execution_count": 31,
   "metadata": {},
   "outputs": [
    {
     "data": {
      "text/html": [
       "<div>\n",
       "<style scoped>\n",
       "    .dataframe tbody tr th:only-of-type {\n",
       "        vertical-align: middle;\n",
       "    }\n",
       "\n",
       "    .dataframe tbody tr th {\n",
       "        vertical-align: top;\n",
       "    }\n",
       "\n",
       "    .dataframe thead tr th {\n",
       "        text-align: left;\n",
       "    }\n",
       "</style>\n",
       "<table border=\"1\" class=\"dataframe\">\n",
       "  <thead>\n",
       "    <tr>\n",
       "      <th>Department</th>\n",
       "      <th colspan=\"2\" halign=\"left\">Copywriting</th>\n",
       "      <th colspan=\"2\" halign=\"left\">Data</th>\n",
       "      <th>Design</th>\n",
       "      <th>Strategy</th>\n",
       "      <th>Web Dev</th>\n",
       "      <th>Web dev</th>\n",
       "    </tr>\n",
       "    <tr>\n",
       "      <th>tags</th>\n",
       "      <th>high_risk</th>\n",
       "      <th>low_risk</th>\n",
       "      <th>high_risk</th>\n",
       "      <th>low_risk</th>\n",
       "      <th>low_risk</th>\n",
       "      <th>low_risk</th>\n",
       "      <th>low_risk</th>\n",
       "      <th>low_risk</th>\n",
       "    </tr>\n",
       "  </thead>\n",
       "  <tbody>\n",
       "    <tr>\n",
       "      <td>tags</td>\n",
       "      <td>1</td>\n",
       "      <td>237</td>\n",
       "      <td>1</td>\n",
       "      <td>243</td>\n",
       "      <td>92</td>\n",
       "      <td>326</td>\n",
       "      <td>126</td>\n",
       "      <td>111</td>\n",
       "    </tr>\n",
       "  </tbody>\n",
       "</table>\n",
       "</div>"
      ],
      "text/plain": [
       "Department Copywriting               Data            Design Strategy  Web Dev  \\\n",
       "tags         high_risk low_risk high_risk low_risk low_risk low_risk low_risk   \n",
       "tags                 1      237         1      243       92      326      126   \n",
       "\n",
       "Department  Web dev  \n",
       "tags       low_risk  \n",
       "tags            111  "
      ]
     },
     "execution_count": 31,
     "metadata": {},
     "output_type": "execute_result"
    }
   ],
   "source": [
    "\n",
    "count_tags = pd.DataFrame(filter_tags.groupby(['Department','tags'])['tags'].count()).transpose()\n",
    "count_tags"
   ]
  },
  {
   "cell_type": "code",
   "execution_count": null,
   "metadata": {},
   "outputs": [],
   "source": []
  },
  {
   "cell_type": "code",
   "execution_count": null,
   "metadata": {},
   "outputs": [],
   "source": []
  },
  {
   "cell_type": "code",
   "execution_count": null,
   "metadata": {},
   "outputs": [],
   "source": []
  },
  {
   "cell_type": "code",
   "execution_count": null,
   "metadata": {},
   "outputs": [],
   "source": []
  },
  {
   "cell_type": "code",
   "execution_count": null,
   "metadata": {},
   "outputs": [],
   "source": []
  }
 ],
 "metadata": {
  "kernelspec": {
   "display_name": "Python 3",
   "language": "python",
   "name": "python3"
  },
  "language_info": {
   "codemirror_mode": {
    "name": "ipython",
    "version": 3
   },
   "file_extension": ".py",
   "mimetype": "text/x-python",
   "name": "python",
   "nbconvert_exporter": "python",
   "pygments_lexer": "ipython3",
   "version": "3.7.4"
  }
 },
 "nbformat": 4,
 "nbformat_minor": 2
}
